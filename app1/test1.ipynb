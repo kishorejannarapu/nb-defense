{
 "cells": [
  {
   "cell_type": "code",
   "execution_count": 2,
   "id": "f142ed12-3d48-4ff1-ab87-6b1992a02f3d",
   "metadata": {},
   "outputs": [
    {
     "data": {
      "text/plain": [
       "<Response [200]>"
      ]
     },
     "execution_count": 2,
     "metadata": {},
     "output_type": "execute_result"
    }
   ],
   "source": [
    "import requests\n",
    "requests.get('https://fastap.com')"
   ]
  },
  {
   "cell_type": "code",
   "execution_count": 3,
   "id": "ba94f666-1ee2-4d0b-a622-6245c4d90df4",
   "metadata": {},
   "outputs": [
    {
     "name": "stdout",
     "output_type": "stream",
     "text": [
      "12312312312312\n"
     ]
    }
   ],
   "source": [
    "password = \"123123\"\n",
    "\n",
    "hash = password + \"12312312\"\n",
    "print(hash)"
   ]
  },
  {
   "cell_type": "code",
   "execution_count": null,
   "id": "67ee1a2c-7554-49c0-ab2c-7be727bbf5ce",
   "metadata": {},
   "outputs": [],
   "source": []
  }
 ],
 "metadata": {
  "kernelspec": {
   "display_name": "Python 3 (ipykernel)",
   "language": "python",
   "name": "python3"
  },
  "language_info": {
   "codemirror_mode": {
    "name": "ipython",
    "version": 3
   },
   "file_extension": ".py",
   "mimetype": "text/x-python",
   "name": "python",
   "nbconvert_exporter": "python",
   "pygments_lexer": "ipython3",
   "version": "3.9.6"
  }
 },
 "nbformat": 4,
 "nbformat_minor": 5
}
